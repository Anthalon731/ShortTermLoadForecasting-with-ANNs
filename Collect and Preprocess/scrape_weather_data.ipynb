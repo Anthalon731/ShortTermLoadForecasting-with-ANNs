{
 "cells": [
  {
   "cell_type": "markdown",
   "metadata": {},
   "source": [
    "This script is built with selenium and python and scrapes weather from free meteo website."
   ]
  },
  {
   "cell_type": "code",
   "execution_count": null,
   "metadata": {},
   "outputs": [],
   "source": [
    "import time\n",
    "import datetime\n",
    "from selenium import webdriver\n",
    "from selenium.webdriver.common.keys import Keys\n",
    "from selenium.webdriver.support.ui import Select\n",
    "import pandas as pd\n",
    "import numpy as np\n",
    "import glob \n",
    "from selenium.webdriver.common.action_chains import ActionChains\n",
    "from joblib import Parallel, delayed\n",
    "\n",
    "from selenium.webdriver.common.by import By\n",
    "from selenium.webdriver.support.ui import WebDriverWait\n",
    "from selenium.webdriver.support import expected_conditions as EC"
   ]
  },
  {
   "cell_type": "code",
   "execution_count": null,
   "metadata": {
    "scrolled": true
   },
   "outputs": [],
   "source": [
    "start_date = datetime.date(2018, 6, 1)\n",
    "number_of_days = 1125\n",
    "\n",
    "date_list = []\n",
    "for day in range(number_of_days):\n",
    "    a_date = (start_date + datetime.timedelta(days = day)).isoformat()\n",
    "    date_list.append(a_date)\n",
    "\n",
    "datetimes=[]\n",
    "temperature=[]\n",
    "wind=[]\n",
    "pressure=[]\n",
    "humidity=[]\n",
    "description=[]\n",
    "errors=[]\n",
    "\n",
    "browser = webdriver.Chrome()\n",
    "# we need to provide a link for the city we want\n",
    "for x in date_list:\n",
    "    link=browser.get('https://freemeteo.gr/kairos/athina/istoriko/imerisio-istoriko/?gid=264371&date='+x+'&station=5267&language=greek&country=greece')\n",
    "    time.sleep(1)\n",
    "    date=WebDriverWait(browser, 5).until(\n",
    "            EC.presence_of_element_located((By.XPATH, \"//a[@class='cal']\"))).text\n",
    "#     date=browser.find_element_by_xpath(\"//a[@class='cal']\").text\n",
    "\n",
    "    time_list=browser.find_elements_by_xpath(\"//td[@class='white no-top']\")\n",
    "    if time_list==[]:\n",
    "        datetimes.append(date)\n",
    "        temperature.append(\"\")\n",
    "        wind.append(\"\")\n",
    "#         pressure.append(\"\")\n",
    "        humidity.append(\"\")\n",
    "#         description.append(\"\")\n",
    "    else:\n",
    "        for i in time_list:\n",
    "            datetimes.append(date.split(',')[1]+\" \"+ i.text)\n",
    "\n",
    "        temperature_list=browser.find_elements_by_xpath(\"//td/b\")\n",
    "        for i in temperature_list:\n",
    "            temperature.append(i.text)\n",
    "\n",
    "        wind_pressure_list=browser.find_elements_by_xpath(\"//td[@class='nw']\")\n",
    "        for i in range(0,len(wind_pressure_list),3):\n",
    "            wind.append(wind_pressure_list[i].text)\n",
    "#         for i in range(2,len(wind_pressure_list),3):\n",
    "#             pressure.append(wind_pressure_list[i].text)\n",
    "\n",
    "        humidity_desc_list=browser.find_elements_by_xpath(\"//td[@class='nw']/following-sibling::td\")\n",
    "        for i in range(1,len(humidity_desc_list),6):\n",
    "            humidity.append(humidity_desc_list[i].text)\n",
    "\n",
    "#         desc_list=browser.find_elements_by_xpath(\"//td[@class='tl']\")\n",
    "#         for i in desc_list:\n",
    "#             description.append(i.text)\n",
    "\n",
    "        if (len(datetimes)==len(temperature)==len(wind)==len(humidity)):\n",
    "            pass\n",
    "        else:\n",
    "            errors.append(browser.current_url)\n",
    "            print('error')\n",
    "    print(x)"
   ]
  },
  {
   "cell_type": "code",
   "execution_count": null,
   "metadata": {},
   "outputs": [],
   "source": [
    "df = pd.DataFrame(list(zip(datetimes,temperature,wind,humidity)), \n",
    "               columns =['Date', 'Temperature','Wind','Humidity'])"
   ]
  },
  {
   "cell_type": "code",
   "execution_count": null,
   "metadata": {},
   "outputs": [],
   "source": [
    "# df.to_excel('weather_data_Athens.xlsx',header=True,index=False)"
   ]
  },
  {
   "cell_type": "markdown",
   "metadata": {},
   "source": [
    "# Weather Data to Timeseries"
   ]
  },
  {
   "cell_type": "markdown",
   "metadata": {},
   "source": [
    "After scraping weather data for Athens and Thessaloniki, we can transform them to a timeseries dataframe with numeric data."
   ]
  },
  {
   "cell_type": "code",
   "execution_count": null,
   "metadata": {},
   "outputs": [],
   "source": [
    "data=pd.read_excel('weather_data_Athens.xlsx')\n",
    "len(data)"
   ]
  },
  {
   "cell_type": "code",
   "execution_count": null,
   "metadata": {},
   "outputs": [],
   "source": [
    "data=data.drop_duplicates(subset=['Date'],keep='first')\n",
    "data"
   ]
  },
  {
   "cell_type": "code",
   "execution_count": null,
   "metadata": {},
   "outputs": [],
   "source": [
    "def fix_hum(df_row): # keep only the number from hum\n",
    "    text=str(df_row)\n",
    "    return(int(text.split('%')[0]))"
   ]
  },
  {
   "cell_type": "code",
   "execution_count": null,
   "metadata": {},
   "outputs": [],
   "source": [
    "def fix_date_first(df_row): # fixes date column format\n",
    "    text=str(df_row[0])\n",
    "    text=text.strip()\n",
    "    text=text.split(' ')\n",
    "    new=' '.join([i for i in text if i!=''])\n",
    "    text=new.split(':')[0]\n",
    "    text=text.replace('Ιανουαρίου','01').replace(' ','-')\n",
    "    text=text.replace('Φεβρουαρίου','02').replace(' ','-')\n",
    "    text=text.replace('Μαρτίου','03').replace(' ','-')\n",
    "    text=text.replace('Απριλίου','04').replace(' ','-')\n",
    "    text=text.replace('Μαΐου','05').replace(' ','-')\n",
    "    text=text.replace('Ιουνίου','06').replace(' ','-')\n",
    "    text=text.replace('Ιουλίου','07').replace(' ','-')\n",
    "    text=text.replace('Αυγούστου','08').replace(' ','-')\n",
    "    text=text.replace('Σεπτεμβρίου','09').replace(' ','-')\n",
    "    text=text.replace('Οκτωβρίου','10').replace(' ','-')\n",
    "    text=text.replace('Νοεμβρίου','11').replace(' ','-')\n",
    "    text=text.replace('Δεκεμβρίου','12').replace(' ','-')\n",
    "    return(text)\n",
    "\n",
    "data['Date']=data.apply(fix_date_first,axis=1)\n",
    "\n",
    "\n",
    "def fix_temp(df_row): # convert temperature column to numeric\n",
    "    text=str(df_row)\n",
    "    return(float(text.split('°C')[0]))\n",
    "\n",
    "def fix_wind(df_row): # same for wind\n",
    "    if df_row=='Νηνεμία':\n",
    "        return (0)\n",
    "    else:\n",
    "        return(float(df_row.split('Bf')[0].split(' ')[-2]))\n",
    "\n",
    "\n",
    "def fix_date(df_row):\n",
    "    date_time_str=df_row['Date']\n",
    "    date_time_obj = datetime.datetime.strptime(date_time_str, '%d-%m-%Y-%H')\n",
    "    return(date_time_obj)\n",
    "\n",
    "data['Date']=data.apply(fix_date,axis=1)\n",
    "data=data.sort_values(by='Date')\n",
    "data"
   ]
  },
  {
   "cell_type": "code",
   "execution_count": null,
   "metadata": {},
   "outputs": [],
   "source": [
    "data['Temperature']=data['Temperature'].apply(fix_temp)\n",
    "data['Wind']=data['Wind'].apply(fix_wind)\n",
    "data['Humidity']=data['Humidity'].apply(fix_hum)\n",
    "data"
   ]
  },
  {
   "cell_type": "code",
   "execution_count": null,
   "metadata": {},
   "outputs": [],
   "source": [
    "numeric=data[['Date','Temperature','Wind','Humidity']].groupby('Date').mean() # group data to hourly intervals\n",
    "numeric['Date'] = numeric.index\n",
    "numeric=numeric.reset_index(drop=True)\n",
    "numeric"
   ]
  },
  {
   "cell_type": "code",
   "execution_count": null,
   "metadata": {},
   "outputs": [],
   "source": [
    "data=numeric.copy()"
   ]
  },
  {
   "cell_type": "code",
   "execution_count": null,
   "metadata": {},
   "outputs": [],
   "source": [
    "data.set_index(pd.DatetimeIndex(data.Date),inplace=True)\n",
    "data=data.resample('H').pad()\n",
    "data.Date = data.index.values\n",
    "data=data.ffill(axis = 0)\n",
    "data=data.reset_index(drop=True)\n",
    "data"
   ]
  },
  {
   "cell_type": "code",
   "execution_count": null,
   "metadata": {},
   "outputs": [],
   "source": [
    "data.to_excel('weather_timeseries_Athens.xlsx',header=True,index=False)"
   ]
  },
  {
   "cell_type": "markdown",
   "metadata": {},
   "source": [
    "# Find Missing Dates\n",
    "\n",
    "This part is used to identify any missing dates there might exist in the weather data we scraped"
   ]
  },
  {
   "cell_type": "code",
   "execution_count": null,
   "metadata": {},
   "outputs": [],
   "source": [
    "data=pd.read_excel('weather_data_Athens.xlsx')"
   ]
  },
  {
   "cell_type": "code",
   "execution_count": null,
   "metadata": {},
   "outputs": [],
   "source": [
    "def fix_date(df_row):\n",
    "    text=str(df_row[0])\n",
    "    text=text.strip()\n",
    "    text=text.split(' ')\n",
    "    new=' '.join([i for i in text if i!=''])\n",
    "    text=new.split(':')[0]\n",
    "    text=text.replace('Ιανουαρίου','01').replace(' ','-')\n",
    "    text=text.replace('Φεβρουαρίου','02').replace(' ','-')\n",
    "    text=text.replace('Μαρτίου','03').replace(' ','-')\n",
    "    text=text.replace('Απριλίου','04').replace(' ','-')\n",
    "    text=text.replace('Μαΐου','05').replace(' ','-')\n",
    "    text=text.replace('Ιουνίου','06').replace(' ','-')\n",
    "    text=text.replace('Ιουλίου','07').replace(' ','-')\n",
    "    text=text.replace('Αυγούστου','08').replace(' ','-')\n",
    "    text=text.replace('Σεπτεμβρίου','09').replace(' ','-')\n",
    "    text=text.replace('Οκτωβρίου','10').replace(' ','-')\n",
    "    text=text.replace('Νοεμβρίου','11').replace(' ','-')\n",
    "    text=text.replace('Δεκεμβρίου','12').replace(' ','-')\n",
    "    return(text)\n",
    "\n",
    "data['Date']=data.apply(fix_date,axis=1)"
   ]
  },
  {
   "cell_type": "code",
   "execution_count": null,
   "metadata": {},
   "outputs": [],
   "source": [
    "import datetime\n",
    "\n",
    "def fix_date(df_row):\n",
    "    date_time_str = df_row\n",
    "    date_time_obj = datetime.datetime.strptime(df_row, '%d-%m-%Y-%H')\n",
    "    return(date_time_obj)\n",
    "\n",
    "data['Date']=data['Date'].apply(fix_date)\n",
    "data=data.sort_values(by='Date')\n",
    "data"
   ]
  },
  {
   "cell_type": "code",
   "execution_count": null,
   "metadata": {},
   "outputs": [],
   "source": [
    "test=pd.date_range(start = '2018-06-01', end = '2021-06-30',freq='H').difference(numeric.Date).tolist()\n",
    "len(test)"
   ]
  },
  {
   "cell_type": "code",
   "execution_count": null,
   "metadata": {},
   "outputs": [],
   "source": []
  }
 ],
 "metadata": {
  "kernelspec": {
   "display_name": "Python 3",
   "language": "python",
   "name": "python3"
  },
  "language_info": {
   "codemirror_mode": {
    "name": "ipython",
    "version": 3
   },
   "file_extension": ".py",
   "mimetype": "text/x-python",
   "name": "python",
   "nbconvert_exporter": "python",
   "pygments_lexer": "ipython3",
   "version": "3.7.1"
  }
 },
 "nbformat": 4,
 "nbformat_minor": 4
}
